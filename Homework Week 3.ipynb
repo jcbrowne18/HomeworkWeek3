{
  "cells": [
    {
      "metadata": {
        "trusted": true,
        "scrolled": true
      },
      "cell_type": "code",
      "source": "import pandas as pd\nloc = \"Datasets/titanic3.xls\"\ndf = pd.read_excel(loc)\ndf.head()",
      "execution_count": 1,
      "outputs": [
        {
          "output_type": "execute_result",
          "execution_count": 1,
          "data": {
            "text/html": "<div>\n<style>\n    .dataframe thead tr:only-child th {\n        text-align: right;\n    }\n\n    .dataframe thead th {\n        text-align: left;\n    }\n\n    .dataframe tbody tr th {\n        vertical-align: top;\n    }\n</style>\n<table border=\"1\" class=\"dataframe\">\n  <thead>\n    <tr style=\"text-align: right;\">\n      <th></th>\n      <th>pclass</th>\n      <th>survived</th>\n      <th>name</th>\n      <th>sex</th>\n      <th>age</th>\n      <th>sibsp</th>\n      <th>parch</th>\n      <th>ticket</th>\n      <th>fare</th>\n      <th>cabin</th>\n      <th>embarked</th>\n      <th>boat</th>\n      <th>body</th>\n      <th>home.dest</th>\n    </tr>\n  </thead>\n  <tbody>\n    <tr>\n      <th>0</th>\n      <td>1</td>\n      <td>1</td>\n      <td>Allen, Miss. Elisabeth Walton</td>\n      <td>female</td>\n      <td>29.0000</td>\n      <td>0</td>\n      <td>0</td>\n      <td>24160</td>\n      <td>211.3375</td>\n      <td>B5</td>\n      <td>S</td>\n      <td>2</td>\n      <td>NaN</td>\n      <td>St Louis, MO</td>\n    </tr>\n    <tr>\n      <th>1</th>\n      <td>1</td>\n      <td>1</td>\n      <td>Allison, Master. Hudson Trevor</td>\n      <td>male</td>\n      <td>0.9167</td>\n      <td>1</td>\n      <td>2</td>\n      <td>113781</td>\n      <td>151.5500</td>\n      <td>C22 C26</td>\n      <td>S</td>\n      <td>11</td>\n      <td>NaN</td>\n      <td>Montreal, PQ / Chesterville, ON</td>\n    </tr>\n    <tr>\n      <th>2</th>\n      <td>1</td>\n      <td>0</td>\n      <td>Allison, Miss. Helen Loraine</td>\n      <td>female</td>\n      <td>2.0000</td>\n      <td>1</td>\n      <td>2</td>\n      <td>113781</td>\n      <td>151.5500</td>\n      <td>C22 C26</td>\n      <td>S</td>\n      <td>NaN</td>\n      <td>NaN</td>\n      <td>Montreal, PQ / Chesterville, ON</td>\n    </tr>\n    <tr>\n      <th>3</th>\n      <td>1</td>\n      <td>0</td>\n      <td>Allison, Mr. Hudson Joshua Creighton</td>\n      <td>male</td>\n      <td>30.0000</td>\n      <td>1</td>\n      <td>2</td>\n      <td>113781</td>\n      <td>151.5500</td>\n      <td>C22 C26</td>\n      <td>S</td>\n      <td>NaN</td>\n      <td>135.0</td>\n      <td>Montreal, PQ / Chesterville, ON</td>\n    </tr>\n    <tr>\n      <th>4</th>\n      <td>1</td>\n      <td>0</td>\n      <td>Allison, Mrs. Hudson J C (Bessie Waldo Daniels)</td>\n      <td>female</td>\n      <td>25.0000</td>\n      <td>1</td>\n      <td>2</td>\n      <td>113781</td>\n      <td>151.5500</td>\n      <td>C22 C26</td>\n      <td>S</td>\n      <td>NaN</td>\n      <td>NaN</td>\n      <td>Montreal, PQ / Chesterville, ON</td>\n    </tr>\n  </tbody>\n</table>\n</div>",
            "text/plain": "   pclass  survived                                             name     sex  \\\n0       1         1                    Allen, Miss. Elisabeth Walton  female   \n1       1         1                   Allison, Master. Hudson Trevor    male   \n2       1         0                     Allison, Miss. Helen Loraine  female   \n3       1         0             Allison, Mr. Hudson Joshua Creighton    male   \n4       1         0  Allison, Mrs. Hudson J C (Bessie Waldo Daniels)  female   \n\n       age  sibsp  parch  ticket      fare    cabin embarked boat   body  \\\n0  29.0000      0      0   24160  211.3375       B5        S    2    NaN   \n1   0.9167      1      2  113781  151.5500  C22 C26        S   11    NaN   \n2   2.0000      1      2  113781  151.5500  C22 C26        S  NaN    NaN   \n3  30.0000      1      2  113781  151.5500  C22 C26        S  NaN  135.0   \n4  25.0000      1      2  113781  151.5500  C22 C26        S  NaN    NaN   \n\n                         home.dest  \n0                     St Louis, MO  \n1  Montreal, PQ / Chesterville, ON  \n2  Montreal, PQ / Chesterville, ON  \n3  Montreal, PQ / Chesterville, ON  \n4  Montreal, PQ / Chesterville, ON  "
          },
          "metadata": {}
        }
      ]
    },
    {
      "metadata": {
        "trusted": true,
        "scrolled": false
      },
      "cell_type": "code",
      "source": "df.count()",
      "execution_count": 27,
      "outputs": [
        {
          "output_type": "execute_result",
          "execution_count": 27,
          "data": {
            "text/plain": "pclass       1309\nsurvived     1309\nname         1309\nsex          1309\nage          1046\nsibsp        1309\nparch        1309\nticket       1309\nfare         1308\ncabin         295\nembarked     1307\nboat          486\nbody          121\nhome.dest     745\ndtype: int64"
          },
          "metadata": {}
        }
      ]
    },
    {
      "metadata": {
        "trusted": true
      },
      "cell_type": "code",
      "source": "w = (df['sex']=='female').sum()\nm = ((df['sex']=='male')&(df['age']>=18.0)).sum()\nb = ((df['sex']=='male')&(df['age']<18.0)).sum()\nprint(w, m, b)\nwsurv = ((df['sex']=='female')& (df['survived']==1)).sum()\nmsurv = ((df['sex']=='male') & (df['age'] >= 18.0) &(df['survived']==1)).sum()\nbsurv = ((df['sex']=='male') & (df['age'] < 18.0) & (df['survived']==1)).sum()\nprint(wsurv, msurv, bsurv)",
      "execution_count": 3,
      "outputs": [
        {
          "output_type": "stream",
          "text": "466 576 82\n339 104 31\n",
          "name": "stdout"
        }
      ]
    },
    {
      "metadata": {
        "trusted": true
      },
      "cell_type": "code",
      "source": "fc = (df['pclass']==1).sum()\nsc = (df['pclass']==2).sum()\ntc = (df['pclass']==3).sum()\nprint(fc, sc, tc)\nfc_surv = ((df['pclass']==1) & (df['survived']==1)).sum()\nsc_surv = ((df['pclass']==2) & (df['survived']==1)).sum()\ntc_surv = ((df['pclass']==3) & (df['survived']==1)).sum()\nprint(fc_surv, sc_surv, tc_surv)",
      "execution_count": 4,
      "outputs": [
        {
          "output_type": "stream",
          "text": "323 277 709\n200 119 181\n",
          "name": "stdout"
        }
      ]
    },
    {
      "metadata": {
        "trusted": true
      },
      "cell_type": "code",
      "source": "t = (df['survived']).count()\nsurv = (df['survived']==1).sum()\nprint(t, surv)",
      "execution_count": 6,
      "outputs": [
        {
          "output_type": "stream",
          "text": "1309 500\n",
          "name": "stdout"
        }
      ]
    },
    {
      "metadata": {
        "trusted": true
      },
      "cell_type": "code",
      "source": "p_w = w/t\np_m = m/t\np_b = b/t\nprint(p_w, p_m, p_b)\n\np_fc = fc/t\np_sc = sc/t\np_tc = tc/t\nprint(p_fc, p_sc, p_tc)\n\np_surv_w = wsurv/surv\np_surv_m = msurv/surv\np_surv_b = bsurv/surv\nprint(p_surv_w, p_surv_m, p_surv_b)\n\np_surv_fc = fc_surv/surv\np_surv_sc = sc_surv/surv\np_surv_tc = tc_surv/surv\nprint(p_surv_fc, p_surv_sc, p_surv_tc)\n\np_surv = surv/t\nprint(p_surv)",
      "execution_count": 8,
      "outputs": [
        {
          "output_type": "stream",
          "text": "0.3559969442322384 0.4400305576776165 0.06264323911382735\n0.24675324675324675 0.21161191749427044 0.5416348357524828\n0.678 0.208 0.062\n0.4 0.238 0.362\n0.3819709702062643\n",
          "name": "stdout"
        }
      ]
    },
    {
      "metadata": {
        "trusted": true
      },
      "cell_type": "code",
      "source": "def computeBayes(a,b,c,d,e):\n    return (a * b * c)/(d * e)\n\np_wtcsurv = computeBayes(p_surv_w, p_surv_tc, p_surv, p_w, p_tc)\np_mfcsurv = computeBayes(p_surv_m, p_surv_fc, p_surv, p_m, p_fc)\np_bscsurv = computeBayes(p_surv_b, p_surv_sc, p_surv, p_b, p_sc)\n\nprint(p_wtcsurv)\nprint(p_mfcsurv)\nprint(p_bscsurv)",
      "execution_count": 28,
      "outputs": [
        {
          "output_type": "stream",
          "text": "0.4862009055854525\n0.29269005847953217\n0.4251915998943383\n",
          "name": "stdout"
        }
      ]
    },
    {
      "metadata": {
        "trusted": true
      },
      "cell_type": "code",
      "source": "",
      "execution_count": null,
      "outputs": []
    }
  ],
  "metadata": {
    "kernelspec": {
      "name": "python36",
      "display_name": "Python 3.6",
      "language": "python"
    },
    "language_info": {
      "mimetype": "text/x-python",
      "nbconvert_exporter": "python",
      "name": "python",
      "pygments_lexer": "ipython3",
      "version": "3.6.6",
      "file_extension": ".py",
      "codemirror_mode": {
        "version": 3,
        "name": "ipython"
      }
    }
  },
  "nbformat": 4,
  "nbformat_minor": 2
}